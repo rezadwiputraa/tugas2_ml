{
 "cells": [
  {
   "cell_type": "markdown",
   "metadata": {},
   "source": [
    "# TUGAS PERTEMUAN 2\n",
    "# MACHINE LEARNING"
   ]
  },
  {
   "cell_type": "markdown",
   "metadata": {},
   "source": [
    "# SOAL 1\n",
    "Buatlah identitas diri menggunakan pemograman python sederhana\n"
   ]
  },
  {
   "cell_type": "code",
   "execution_count": 4,
   "metadata": {},
   "outputs": [
    {
     "name": "stdout",
     "output_type": "stream",
     "text": [
      "DATA DIRI\n",
      "Nama :  Jefry Sunupurwa Asri\n",
      "Kode Dosen:  8216\n",
      "Perkuliahan:  Machine Learning\n"
     ]
    }
   ],
   "source": [
    "#jawaban soal 1\n",
    "nama = \"Jefry Sunupurwa Asri\"\n",
    "kode_dosen = \"8216\"\n",
    "mata_kuliah = \"Machine Learning\"\n",
    "\n",
    "print(\"DATA DIRI\")\n",
    "print(\"Nama : \", nama)\n",
    "print(\"Kode Dosen: \", kode_dosen)\n",
    "print(\"Perkuliahan: \", mata_kuliah)"
   ]
  },
  {
   "cell_type": "markdown",
   "metadata": {},
   "source": [
    "# SOAL 2 \n",
    "Buatlah matriksC dengan orde 2x3, dan nilai yang diberikan pada matriksC adalah sebagai berikut:\n",
    "- Baris 1 Kolom 1, nilai = 1\n",
    "- Baris 1 Kolom 2, nilai = 2\n",
    "- Baris 1 Kolom 3, nilai = 3\n",
    "- Baris 2 Kolom 1, nilai = 4\n",
    "- Baris 2 Kolom 2, nilai = 5\n",
    "- Baris 2 Kolom 3, nilai = 6"
   ]
  },
  {
   "cell_type": "code",
   "execution_count": 5,
   "metadata": {},
   "outputs": [
    {
     "name": "stdout",
     "output_type": "stream",
     "text": [
      "[[1, 2, 3], [4, 5, 6]]\n"
     ]
    }
   ],
   "source": [
    "#jawaban soal2\n",
    "matriksC= [[1,2,3],[4,5,6]]\n",
    "print(matriksC)"
   ]
  },
  {
   "cell_type": "markdown",
   "metadata": {},
   "source": [
    "# SOAL 3\n",
    "Buatlah matriks dengan orde 3x2, dengan nilai adalah:\n",
    "- Baris 1 Kolom 1, nilai = 2\n",
    "- Baris 1 Kolom 2, nilai = 2\n",
    "- Baris 2 Kolom 1, nilai = 2\n",
    "- Baris 2 Kolom 2, nilai = 2\n",
    "- Baris 3 Kolom 1, nilai = 2\n",
    "- Baris 3 Kolom 2, nilai = 2"
   ]
  },
  {
   "cell_type": "code",
   "execution_count": 6,
   "metadata": {},
   "outputs": [
    {
     "name": "stdout",
     "output_type": "stream",
     "text": [
      "[[2, 2], [2, 2], [2, 2]]\n"
     ]
    }
   ],
   "source": [
    "#jawaban soal 3\n",
    "matriks = [[2,2],[2,2],[2,2]]\n",
    "print(matriks)"
   ]
  },
  {
   "cell_type": "markdown",
   "metadata": {},
   "source": [
    "# SOAL 4\n",
    "Importlah library Numpy"
   ]
  },
  {
   "cell_type": "code",
   "execution_count": 7,
   "metadata": {},
   "outputs": [],
   "source": [
    "import numpy as np"
   ]
  },
  {
   "cell_type": "markdown",
   "metadata": {},
   "source": [
    "# SOAL 5\n",
    "Dengan memanfaatkan library numpy \n",
    "Buatlah matriks dengan menggunakan Library Numpy dengan panjang elemen adalah 32 dan matriks memiliki orde 4x8"
   ]
  },
  {
   "cell_type": "code",
   "execution_count": 8,
   "metadata": {},
   "outputs": [
    {
     "name": "stdout",
     "output_type": "stream",
     "text": [
      "[[ 0  1  2  3  4  5  6  7]\n",
      " [ 8  9 10 11 12 13 14 15]\n",
      " [16 17 18 19 20 21 22 23]\n",
      " [24 25 26 27 28 29 30 31]]\n"
     ]
    }
   ],
   "source": [
    "#jawaban 5\n",
    "from numpy import *\n",
    "matriks = range(32)\n",
    "matriks = reshape(matriks, (4,8))\n",
    "print(matriks)"
   ]
  },
  {
   "cell_type": "markdown",
   "metadata": {},
   "source": [
    "# SOAL 6\n",
    "Buatlah matriks dengan menggunakan Library Numpy dengan orde 3x30, dan nilai elemen dimulai dari indeks 1 sampai dengan 5 secara random."
   ]
  },
  {
   "cell_type": "code",
   "execution_count": 10,
   "metadata": {},
   "outputs": [
    {
     "name": "stdout",
     "output_type": "stream",
     "text": [
      "[[3 4 4 3 4 2 1 3 4 1 2 3 1 3 1 1 1 3 2 1 1 1 1 2 1 1 4 1 1 3]\n",
      " [1 2 1 4 3 3 3 1 3 1 1 1 1 4 4 1 4 1 3 1 2 1 1 1 1 4 4 4 4 1]\n",
      " [2 3 2 4 2 4 1 3 3 1 1 2 4 4 2 3 4 1 4 3 2 1 1 1 4 1 2 4 4 1]]\n"
     ]
    }
   ],
   "source": [
    "#jawaban 6\n",
    "import numpy as np\n",
    "from numpy import *\n",
    "\n",
    "matriks = np.random.randint(1,5,(3,30))\n",
    "print(matriks)\n"
   ]
  }
 ],
 "metadata": {
  "interpreter": {
   "hash": "916dbcbb3f70747c44a77c7bcd40155683ae19c65e1c03b4aa3499c5328201f1"
  },
  "kernelspec": {
   "display_name": "Python 3.8.10 64-bit",
   "language": "python",
   "name": "python3"
  },
  "language_info": {
   "codemirror_mode": {
    "name": "ipython",
    "version": 3
   },
   "file_extension": ".py",
   "mimetype": "text/x-python",
   "name": "python",
   "nbconvert_exporter": "python",
   "pygments_lexer": "ipython3",
   "version": "3.8.10"
  },
  "orig_nbformat": 4
 },
 "nbformat": 4,
 "nbformat_minor": 2
}
